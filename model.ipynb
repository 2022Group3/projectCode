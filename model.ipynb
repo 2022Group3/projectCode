{
  "nbformat": 4,
  "nbformat_minor": 0,
  "metadata": {
    "colab": {
      "name": "Untitled0.ipynb",
      "provenance": [],
      "mount_file_id": "1tTzvc2u2vVLkZNnm__4iJKQeIO_t2isW",
      "authorship_tag": "ABX9TyN6N8AhAVqBz+r/iyGHDAIq",
      "include_colab_link": true
    },
    "kernelspec": {
      "name": "python3",
      "display_name": "Python 3"
    },
    "language_info": {
      "name": "python"
    }
  },
  "cells": [
    {
      "cell_type": "markdown",
      "metadata": {
        "id": "view-in-github",
        "colab_type": "text"
      },
      "source": [
        "<a href=\"https://colab.research.google.com/github/2022Group3/projectCode/blob/main/model.ipynb\" target=\"_parent\"><img src=\"https://colab.research.google.com/assets/colab-badge.svg\" alt=\"Open In Colab\"/></a>"
      ]
    },
    {
      "cell_type": "code",
      "execution_count": 4,
      "metadata": {
        "id": "tPctj-ajNyj2"
      },
      "outputs": [],
      "source": [
        "import numpy as np\n",
        "\n",
        "file=np.load(r\"drive/MyDrive/data_modified.npz\")\n"
      ]
    },
    {
      "cell_type": "code",
      "source": [
        "data_npz = dict(zip((\"test{}\".format(k) for k in file), (file[k] for k in file)))\n"
      ],
      "metadata": {
        "id": "IE81FEJBO0lr"
      },
      "execution_count": 5,
      "outputs": []
    },
    {
      "cell_type": "code",
      "source": [
        "data_npz.keys()"
      ],
      "metadata": {
        "colab": {
          "base_uri": "https://localhost:8080/"
        },
        "id": "cAupcXLUO1-K",
        "outputId": "37636c3f-9215-425a-eed7-83f92af28663"
      },
      "execution_count": 6,
      "outputs": [
        {
          "output_type": "execute_result",
          "data": {
            "text/plain": [
              "dict_keys(['testtrain', 'testytrain', 'testvalidation', 'testyvalidation', 'testtest', 'testytest'])"
            ]
          },
          "metadata": {},
          "execution_count": 6
        }
      ]
    },
    {
      "cell_type": "code",
      "source": [
        ""
      ],
      "metadata": {
        "id": "99V5KVT0PN15"
      },
      "execution_count": null,
      "outputs": []
    }
  ]
}